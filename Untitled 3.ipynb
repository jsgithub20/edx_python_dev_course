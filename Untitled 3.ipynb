{
  "cells": [
    {
      "metadata": {
        "trusted": true
      },
      "cell_type": "code",
      "source": "lst = [8, 85.4, [55, 4], 'word', (59,), {2:43.5}]\nx = 5\n\ntry:\n    print(\"{} / {:.2f} = {:.2f}\".format(lst[i], x, lst[i] / x))\nexcept Exception:\n    print(\"error\")",
      "execution_count": 2,
      "outputs": [
        {
          "output_type": "stream",
          "text": "error\n",
          "name": "stdout"
        }
      ]
    }
  ],
  "metadata": {
    "kernelspec": {
      "name": "python3",
      "display_name": "Python 3",
      "language": "python"
    },
    "language_info": {
      "mimetype": "text/x-python",
      "nbconvert_exporter": "python",
      "name": "python",
      "pygments_lexer": "ipython3",
      "version": "3.5.4",
      "file_extension": ".py",
      "codemirror_mode": {
        "version": 3,
        "name": "ipython"
      }
    }
  },
  "nbformat": 4,
  "nbformat_minor": 1
}