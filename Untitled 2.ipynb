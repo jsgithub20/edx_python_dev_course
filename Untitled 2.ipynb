{
  "cells": [
    {
      "metadata": {
        "trusted": true
      },
      "cell_type": "code",
      "source": "import os\n\nprint(os.listdir())\nprint(os.path.abspath('text_file.txt'))\n\n",
      "execution_count": 13,
      "outputs": [
        {
          "output_type": "stream",
          "text": "['randoms_directory', 'child1_dir', 'text_file.txt', 'files_exercises', 'parent_leaf.txt', 'child2_dir']\n/home/nbuser/library/parent_dir/text_file.txt\n",
          "name": "stdout"
        }
      ]
    }
  ],
  "metadata": {
    "kernelspec": {
      "name": "python3",
      "display_name": "Python 3",
      "language": "python"
    },
    "language_info": {
      "mimetype": "text/x-python",
      "nbconvert_exporter": "python",
      "name": "python",
      "pygments_lexer": "ipython3",
      "version": "3.5.4",
      "file_extension": ".py",
      "codemirror_mode": {
        "version": 3,
        "name": "ipython"
      }
    }
  },
  "nbformat": 4,
  "nbformat_minor": 1
}