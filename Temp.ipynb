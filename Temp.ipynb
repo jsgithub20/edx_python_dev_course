{
  "cells": [
    {
      "metadata": {
        "trusted": true
      },
      "cell_type": "code",
      "source": "dashes(78)",
      "execution_count": 1,
      "outputs": [
        {
          "output_type": "error",
          "ename": "NameError",
          "evalue": "name 'dashes' is not defined",
          "traceback": [
            "\u001b[0;31m---------------------------------------------------------------------------\u001b[0m",
            "\u001b[0;31mNameError\u001b[0m                                 Traceback (most recent call last)",
            "\u001b[0;32m<ipython-input-1-5ce3e0545fcd>\u001b[0m in \u001b[0;36m<module>\u001b[0;34m()\u001b[0m\n\u001b[0;32m----> 1\u001b[0;31m \u001b[0mdashes\u001b[0m\u001b[0;34m(\u001b[0m\u001b[0;36m78\u001b[0m\u001b[0;34m)\u001b[0m\u001b[0;34m\u001b[0m\u001b[0m\n\u001b[0m",
            "\u001b[0;31mNameError\u001b[0m: name 'dashes' is not defined"
          ]
        }
      ]
    },
    {
      "metadata": {
        "trusted": true
      },
      "cell_type": "code",
      "source": "from datetime import date, datetime\nfrom IPython.display import clear_output #to clear the output (specific to Jupyter notebooks and ipython)\n\ndef convert_file(file_path):\n    \"\"\"\n    Convert CSV file to a Python dictionary.\n    \n    The CSV file contains daily weather information arranged in rows,\n    the rows contain  (date, precipitation (inches), maximum temperature (F), minimum temperature (F)) in order.\n    First line in CSV file is a header (DATE, PRCP, TMAX, TMIN), the rest contain the weather data.\n    \n    The function should read the data in the file and generate a dictionary where:\n        1) keys are date objects (from the datetime module), using the daily date info in the file\n        2) values are lists containing [TMAX, TMIN, PRCP] in order\n        \n    args:\n        file_path: path to the CSV file\n    \n    returns:\n        weather: the generated dictionary using date objects as keys and lists of weather info as values\n        \n    examples:\n    Input CSV file:\n    DATE,PRCP,TMAX,TMIN\n    12/10/2017,0,49,34\n    12/11/2017,0,49,29\n    12/12/2017,0,46,32\n    12/13/2017,0,48,34\n    12/14/2017,0,50,36\n    12/15/2017,0.06,43,37\n    12/16/2017,0.14,45,37\n    12/17/2017,0.03,50,42\n    12/18/2017,0.7,49,41\n    12/19/2017,1,50,40\n    12/20/2017,0.13,49,32\n    12/21/2017,0.01,41,29\n    12/22/2017,0.09,40,35\n    12/23/2017,0,38,29\n    12/24/2017,0.12,38,28\n\n    Output dictionary (weather):\n    {datetime.date(2017, 12, 10): [49, 34, 0.0],\n     datetime.date(2017, 12, 11): [49, 29, 0.0],\n     datetime.date(2017, 12, 12): [46, 32, 0.0],\n     datetime.date(2017, 12, 13): [48, 34, 0.0],\n     datetime.date(2017, 12, 14): [50, 36, 0.0],\n     datetime.date(2017, 12, 15): [43, 37, 0.06],\n     datetime.date(2017, 12, 16): [45, 37, 0.14],\n     datetime.date(2017, 12, 17): [50, 42, 0.03],\n     datetime.date(2017, 12, 18): [49, 41, 0.7],\n     datetime.date(2017, 12, 19): [50, 40, 1.0],\n     datetime.date(2017, 12, 20): [49, 32, 0.13],\n     datetime.date(2017, 12, 21): [41, 29, 0.01],\n     datetime.date(2017, 12, 22): [40, 35, 0.09],\n     datetime.date(2017, 12, 23): [38, 29, 0.0],\n     datetime.date(2017, 12, 24): [38, 28, 0.12]}\n    \"\"\"\n    #TODO: Your code goes here, see hints below\n    \n    # open the file for reading (HINT: use `with` statement)\n    with open(file_path, 'r') as file:\n        weather = {}\n    # ignore the first header line (DATE, PRCP, TMAX, TMIN)\n        x = file.readlines()\n    # remove newline characters from end of each line (HINT: use str.rstrip())\n        for i in range(1, len(x)):\n            if x[i]:\n    # split line into a list (HINT: use str.split(','))\n                line = x[i].rstrip('\\n').split(',')\n    # create the date object from the first list element \n    # HINT: use the date_creater(date_string) function provided below\n            \n    # read the weather related variables\n    # precipitation\n    # maximum temperature\n    # minimum temperature\n\n    # create dictionary key:value pair\n                weather[date_creater(line[0])] = [float(line[2]), float(line[3]), float(line[1])]\n            else:\n                break\n    return weather\n\ndef add_rainy(weather):\n    \"\"\"\n    Emphasize rainy days using Boolean values.\n    \n    Modify the weather dictionary by adding another Boolean element to the values' lists. \n    If precipitation is observed on a day (more than 0\"), the associated list is appended by True.\n    If precipitation is not observed (0\"), the associated list is appended by False.\n    \n    args:\n        weather: dictionary, keys are date objects and values are lists [TMAX, TMIN, PRCP]\n        \n    returns:\n        None: the weather dictionary is modified directly, keys are date objects and values are lists [TMAX, TMIN, PRCP, RAINY_DAY]\n        \n    examples:\n    Input weather dictionary:\n    {datetime.date(2017, 12, 10): [49, 34, 0.0],\n     datetime.date(2017, 12, 11): [49, 29, 0.0],\n     datetime.date(2017, 12, 12): [46, 32, 0.0],\n     datetime.date(2017, 12, 13): [48, 34, 0.0],\n     datetime.date(2017, 12, 14): [50, 36, 0.0],\n     datetime.date(2017, 12, 15): [43, 37, 0.06],\n     datetime.date(2017, 12, 16): [45, 37, 0.14],\n     datetime.date(2017, 12, 17): [50, 42, 0.03],\n     datetime.date(2017, 12, 18): [49, 41, 0.7],\n     datetime.date(2017, 12, 19): [50, 40, 1.0],\n     datetime.date(2017, 12, 20): [49, 32, 0.13],\n     datetime.date(2017, 12, 21): [41, 29, 0.01],\n     datetime.date(2017, 12, 22): [40, 35, 0.09],\n     datetime.date(2017, 12, 23): [38, 29, 0.0],\n     datetime.date(2017, 12, 24): [38, 28, 0.12]}\n    \n    Updated weather dictionary with Boolean values\n    {datetime.date(2017, 12, 10): [49, 34, 0.0, False],\n     datetime.date(2017, 12, 11): [49, 29, 0.0, False],\n     datetime.date(2017, 12, 12): [46, 32, 0.0, False],\n     datetime.date(2017, 12, 13): [48, 34, 0.0, False],\n     datetime.date(2017, 12, 14): [50, 36, 0.0, False],\n     datetime.date(2017, 12, 15): [43, 37, 0.06, True],\n     datetime.date(2017, 12, 16): [45, 37, 0.14, True],\n     datetime.date(2017, 12, 17): [50, 42, 0.03, True],\n     datetime.date(2017, 12, 18): [49, 41, 0.7, True],\n     datetime.date(2017, 12, 19): [50, 40, 1.0, True],\n     datetime.date(2017, 12, 20): [49, 32, 0.13, True],\n     datetime.date(2017, 12, 21): [41, 29, 0.01, True],\n     datetime.date(2017, 12, 22): [40, 35, 0.09, True],\n     datetime.date(2017, 12, 23): [38, 29, 0.0, False],\n     datetime.date(2017, 12, 24): [38, 28, 0.12, True]}\n    \"\"\"\n    #TODO: Your code goes here\n    for value in weather.values():\n        if value[2] != 0:\n            value.append(True)\n        else:\n            value.append(False)\n\ndef date_creater(date_string):\n    \"\"\"Convert the date_string (formatted as m/d/yyyy) to a date object.\"\"\"\n    d = datetime.strptime(date_string, \"%m/%d/%Y\")\n    return d.date()\n\ndef consolidate(weather):\n    years = []\n    yearly_weather = {}\n    for key in weather.keys():\n        if key.year not in years:\n            years.append(key.year)\n    for year in years:\n        yearly_sum = []\n        tmax = 0; tmin = 0; ttl_prcp = 0; ttl_r_days = 0; ttl_days = 0\n        for key, value in weather.items():\n            if key.year == year:\n                yearly_sum.append(value)\n        for lst in yearly_sum:\n            tmax += lst[0]; tmin += lst[1]; ttl_prcp += lst[2]\n            if lst[3]:\n                ttl_r_days += 1\n            ttl_days += 1\n        yearly_weather[year] = [tmax/len(yearly_sum), tmin/len(yearly_sum), ttl_prcp, ttl_r_days, ttl_days]\n    return yearly_weather\n\ndef year_info(year, yearly_weather):\n    \"\"\"\n    Convert the year's weather information to a formatted string.\n    \n    Look for the weather information of `year` in the `yearly_weather` dictionary.\n    If it exists, convert the information list into a formatted string:\n            YEAR | AVG_TMAX | AVG_TMIN | TOTAL_PRCP | TOTAL_RAINY_DAYS | TOTAL_DAYS\n    If it does not exist, the formatted string should be:\n            N/A  |    N/A   |    N/A   |     N/A    |        N/A       |    N/A   \n    \n    args:\n        year: int value to look for in the yearly_weather dictionary\n        \n        yearly_weather: consolidated dictionary, keys are years (int), values are lists \n                        [AVG_TMAX, AVG_TMIN, TOTAL_PRCP, TOTAL_RAINY_DAYS, TOTAL_DAYS] \n    \n    returns:\n        formatted_string: containing the year's weather information\n                          \n    examples:\n    Input yearly weather dictionary:\n    {2017: [45.666666666666664, 34.333333333333336, 2.28, 9, 15]}\n    \n    Output formatted string:\n    == year_info(2017, yearly_weather) == (contained in the dictionary)\n    ' 2017 |         45.67 |        34.33 |   2.28\" |            9 |             15 '\n\n    == year_info(2055, yearly_weather) == (not contained in the dictionary)\n    ' N/A  |      N/A      |     N/A      |   N/A   |     N/A      |      N/A       '\n    \"\"\"\n    #TODO: Your code goes here\n    try:\n        data = yearly_weather[year]\n        string1 = \"== year_info({}, yearly_weather) == (contained in the dictionary))\".format(year)\n        string2 = ' {} |{: >14.2f} |{: >13.2f} |{: >7.2f}\" |{: >13} |{: >15} '.format(year, data[0], data[1], data[2], data[3], data[4])\n        return string1 + '\\n' + string2\n    except KeyError:\n        string1 = \"== year_info({}, yearly_weather) == (not contained in the dictionary))\".format(year)\n        string2 = ' N/A  |      N/A      |     N/A      |   N/A   |     N/A      |      N/A       '\n        return string1 + '\\n' + string2\n\nweather = convert_file(\"data/seattle_weather.csv\")\n\nadd_rainy(weather)\n\nyw = consolidate(weather)\n\n\n# print(year_info(2026, yw))\n\n# i = 0\n\n# for key, value in weather.items():\n#     if i < 10:\n#         print(type(key), key)\n#         i += 1",
      "execution_count": 20,
      "outputs": []
    }
  ],
  "metadata": {
    "kernelspec": {
      "name": "python3",
      "display_name": "Python 3",
      "language": "python"
    },
    "language_info": {
      "mimetype": "text/x-python",
      "nbconvert_exporter": "python",
      "name": "python",
      "pygments_lexer": "ipython3",
      "version": "3.5.4",
      "file_extension": ".py",
      "codemirror_mode": {
        "version": 3,
        "name": "ipython"
      }
    }
  },
  "nbformat": 4,
  "nbformat_minor": 1
}