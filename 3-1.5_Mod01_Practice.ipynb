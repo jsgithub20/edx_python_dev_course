{
  "cells": [
    {
      "metadata": {},
      "cell_type": "markdown",
      "source": "# Module 1 Practice\n\n### Students will be able to:\n\n## 3-1.1 Using Python Modules\n* Import different Python modules\n* Compute mathematical expressions using functions from the math module\n* Recognize the effect of operator precedence\n* Round real numbers into the nearest integer\n* Generate (pseudo-)random integers\n* Select a random element from a list\n* Shuffle the elements of a list\n\n##  3-1.2 Working with Date and Time\n* Assign and modify a time object (variable)\n* Assign and modify a date object (variable)\n* Get the current local date\n* Assign and modify a datetime object (variable)\n* Split a datetime object into separate time and date objects\n* Combine time and date objects into datetime objects\n* Display a datetime object as a formatted string\n\n## 3-1.3 Date and Time Arithmetic\n\n* Create timedelta objects\n* Use timedelta objects to perform date arithmetic\n* Compare two datetime objects\n* Build a useful application using timedelta arithmetic\n\n## 3-1.4 File System\n\n* Identify the platform running a Python script ('Linux', 'win32', 'Darwin')\n* Get the current working directory\n* Change the current working directory\n* List the content of the current working directory\n* Create a new directory\n* Remove a directory\n* Rename files and/or directories\n* Recognize the difference between a relative path and an absolute path\n* Test if a path exists\n* Test if a specific file or directory exists"
    },
    {
      "metadata": {},
      "cell_type": "markdown",
      "source": "---\n<font size=\"6\" color=\"#B24C00\"  face=\"verdana\"> <B>Task 1</B></font>\n\n## `math` module\n"
    },
    {
      "metadata": {
        "trusted": true
      },
      "cell_type": "code",
      "source": "# [ ] Use the math module to display an accurate value for pi\nimport math\n\nprint(math.pi)\n",
      "execution_count": 3,
      "outputs": [
        {
          "output_type": "stream",
          "text": "3.141592653589793\n",
          "name": "stdout"
        }
      ]
    },
    {
      "metadata": {
        "trusted": true
      },
      "cell_type": "code",
      "source": "# [ ] Write a program to:\n# 1) find all the numbers in a list that are divisible by 3\n# 2) display the square root of these numbers\n# 3) use a rounding function to display the square roots while ignoring the decimal fraction\nimport math\n\nlst = [23, 45, 65, 2345, 42, 76, 37, 87, 647, 35, 37 ,39, 898, 92, 18]\n\nlst_3 = []\nlst_3_sqrt = []\nlst_3_sqrt_int = []\n\nfor i in range(len(lst)):\n    if lst[i] % 3 == 0:\n        lst_3.extend([lst[i]])\n        lst_3_sqrt.extend([math.sqrt(lst[i])])\n        lst_3_sqrt_int.extend([int(math.sqrt(lst[i]))])\n    else:\n        pass\n\nprint(\"the numbers in lst that are divisible by 3 are:\", lst_3)\nprint(\"the sqrt of above numbers are: \", lst_3_sqrt)\nprint(\"the integer part of the above sqrt numbers are:\", lst_3_sqrt_int)",
      "execution_count": 4,
      "outputs": [
        {
          "output_type": "stream",
          "text": "the numbers in lst that are divisible by 3 are: [45, 42, 87, 39, 18]\nthe sqrt of above numbers are:  [6.708203932499369, 6.48074069840786, 9.327379053088816, 6.244997998398398, 4.242640687119285]\nthe integer part of the above sqrt numbers are: [6, 6, 9, 6, 4]\n",
          "name": "stdout"
        }
      ]
    },
    {
      "metadata": {},
      "cell_type": "markdown",
      "source": "---\n<font size=\"6\" color=\"#B24C00\"  face=\"verdana\"> <B>Task 2</B></font>\n\n## Mathematical operators\n"
    },
    {
      "metadata": {},
      "cell_type": "markdown",
      "source": "### Coin calculators\n\nIn the following exercises, you will develop functions to count the number of coins in a certain dollar amount. You will then use these functions to write a program that can calculate the change due to a customer in coins."
    },
    {
      "metadata": {},
      "cell_type": "markdown",
      "source": "#### Quarters"
    },
    {
      "metadata": {
        "trusted": true
      },
      "cell_type": "code",
      "source": "# [ ] Complete the function `quarters_count` so it calculates and prints the number of quarters in `input_cents`\n# The function input `input_cents` should be in cents \n# The function should print the number of calculated quarters in `input_cents`\n# The function should return the number of remaining cents `remaining_cents` (which is less than 25, why?)\n# HINT: You might want to use % and // operators\n\ndef quarters_count(input_cents):\n    print(input_cents//25)\n    remain = input_cents % 25\n    return remain\n\n# test with $2\n# Output should be: 8 quarter\\s\ndollars = 2\ntotal_cents = dollars * 100\nremaining_cents = quarters_count(total_cents)\nprint(\"remaining cents:\", remaining_cents)\n\n# test with $5.30\n# Output should be: 21.0 quarter\\s\ndollars = 5.30\ntotal_cents = dollars * 100\nremaining_cents = quarters_count(total_cents)\nprint(\"remaining cents:\", remaining_cents)\n\n# test with $9.49\n# Output should be: 37.0 quarter\\s\ndollars = 9.49\ntotal_cents = dollars * 100\nremaining_cents = quarters_count(total_cents)\nprint(\"remaining cents:\", remaining_cents)\n",
      "execution_count": 6,
      "outputs": [
        {
          "output_type": "stream",
          "text": "8\nremaining cents: 0\n21.0\nremaining cents: 5.0\n37.0\nremaining cents: 24.0\n",
          "name": "stdout"
        }
      ]
    },
    {
      "metadata": {},
      "cell_type": "markdown",
      "source": "#### Dimes"
    },
    {
      "metadata": {
        "collapsed": true,
        "trusted": false
      },
      "cell_type": "code",
      "source": "# [ ] Complete the function `dimes_count` so it calculates and prints the number of dimes in `input_cents`\n# The function input `input_cents` should be in cents \n# The function should print the number of calculated dimes in `input_cents`\n# The function should return the number of remaining cents `remaining_cents` (which is less than 10, why?)\n# HINT: You might want to use % and // operators\n\ndef dimes_count(input_cents):\n    #TODO\n\n# test with $2\n# Output should be: 20 dime\\s\ndollars = 2\ntotal_cents = dollars * 100\nremaining_cents = dimes_count(total_cents)\n\n# test with $5.30\n# Output should be: 53.0 dime\\s\ndollars = 5.30\ntotal_cents = dollars * 100\nremaining_cents = dimes_count(total_cents)\n\n# test with $9.49\n# Output should be: 94.0 dime\\s\ndollars = 9.49\ntotal_cents = dollars * 100\nremaining_cents = dimes_count(total_cents)\n\n",
      "execution_count": null,
      "outputs": []
    },
    {
      "metadata": {},
      "cell_type": "markdown",
      "source": "#### Nickels"
    },
    {
      "metadata": {
        "collapsed": true,
        "trusted": false
      },
      "cell_type": "code",
      "source": "# [ ] Complete the function `nickels_count` so it calculates and prints the number of nickels in `input_cents`\n# The function input `input_cents` should be in cents \n# The function should print the number of calculated nickels in `input_cents`\n# The function should return the number of remaining cents `remaining_cents` (which is less than 5, why?)\n# HINT: You might want to use % and // operators\n\ndef nickels_count(input_cents):\n    #TODO\n\n# test with $2\n# Output should be: 40 nickel\\s\ndollars = 2\ntotal_cents = dollars * 100\nremaining_cents = nickels_count(total_cents)\n\n# test with $5.30\n# Output should be: 106.0 nickel\\s\ndollars = 5.30\ntotal_cents = dollars * 100\nremaining_cents = nickels_count(total_cents)\n\n# test with $9.49\n# Output should be: 189.0 nickel\\s\ndollars = 9.49\ntotal_cents = dollars * 100\nremaining_cents = nickels_count(total_cents)\n\n",
      "execution_count": null,
      "outputs": []
    },
    {
      "metadata": {},
      "cell_type": "markdown",
      "source": "#### Change calculator"
    },
    {
      "metadata": {
        "trusted": true
      },
      "cell_type": "code",
      "source": "# [ ] Complete the function `coins_due` to calculate and print the change due to a customer in coins\n#\n# The function `coins_due` has 2 inputs:\n#      - `amount_paid`: Amount paid by a customer (in cents)\n#      - `item_price`: Purchase price of an item\n#\n# The function should print:\n#      - The number of quarters due\n#      - The number of dimes due\n#      - The number of nickels due\n#      - The number of cents due\n#      \n# The function does not need to return anything\n#\n# HINT: Use the functions you developed before `quarters_count`, `dimes_count`, `nickels_count`\n\n\ndef quarters_count(input_cents):\n    return input_cents//25\n\ndef dimes_count(input_cents):\n    return input_cents//10\n\ndef nickels_count(input_cents):\n    return input_cents//5\n\ndef coins_due(amount_paid, item_price):\n    print(\"Change due:\")\n    change = amount_paid - item_price\n    print(quarters_count(change), \"quarter|s\")\n    print(dimes_count((change - quarters_count(change)*25)), \"dime|s\")\n    print(nickels_count(change - quarters_count(change)*25 - dimes_count((change - quarters_count(change)*25))*10), \"nickels\")\n    remain_cents = change - quarters_count(change)*25 - dimes_count((change - quarters_count(change)*25))*10\n    print(remain_cents, \"cent|s\")\n\n# Test case:\n# amount paid = $10, item price = $5.37\n# Output should be: \n#    Change due:\n#    18.0 quarter\\s\n#    1.0 dime\\s\n#    0.0 nickel\\s\n#    3.0 cent\\s\n\namount_paid = 10 * 100 # in cents\nitem_price = 5.37 * 100 # in cents\ncoins_due(amount_paid, item_price)\n\n",
      "execution_count": 26,
      "outputs": [
        {
          "output_type": "stream",
          "text": "Change due:\n18.0 quarter|s\n1.0 dime|s\n0.0 nickels\n3.0 cent|s\n",
          "name": "stdout"
        }
      ]
    },
    {
      "metadata": {},
      "cell_type": "markdown",
      "source": "---\n<font size=\"6\" color=\"#B24C00\"  face=\"verdana\"> <B>Task 3</B></font>\n\n## Random numbers\n"
    },
    {
      "metadata": {},
      "cell_type": "markdown",
      "source": "### Probability of a die roll\n\nIt is possible to mathematically predict the probability (or chance) of getting a certain die roll; however, in this exercise you will use Python to do it without math. The trick is to roll a die a large number of times and count how many times we get a certain roll. You can, then, divide the count by the large number to get the probability. For a fair 6-sided die, the chance of getting any of its faces is about 16.6%"
    },
    {
      "metadata": {
        "trusted": true
      },
      "cell_type": "code",
      "source": "# [ ] Complete the following program to display the probability of a certain die roll\n\nfrom random import randint\n\ndef die_roller():\n    return randint(1, 6)\n\nyour_face = input(\"please input a face# (1-6) you want to get from die rolls: \")\n\ncount = 0\n\nfor i in range(1000):\n    face = die_roller()\n    if face == int(your_face):\n        count += 1\n    i += 1\n\nprint(\"the chance for you to get your die face is:\", (count/1000)*100, \"%\")\n",
      "execution_count": 46,
      "outputs": [
        {
          "output_type": "stream",
          "name": "stdout",
          "text": "please input a face# (1-6) you want to get from die rolls: 3\nthe chance for you to get your die face is: 15.7 %\n"
        }
      ]
    },
    {
      "metadata": {},
      "cell_type": "markdown",
      "source": "### Roll till you get 11\n\nIn this exercise, you will count the number of times you need to roll a set of 2 dice till you get a roll sum of 11."
    },
    {
      "metadata": {
        "trusted": true
      },
      "cell_type": "code",
      "source": "# [ ] Complete the following program so you can count the number of times needed to get a roll sum of 11\n\nfrom random import randint\n\ndef die_roller():\n    return(randint(1, 6))\n\ndef roll_sum():\n    return die_roller() + die_roller()\n\ni = 1\n\nwhile True:\n    if roll_sum() != 11:\n        i += 1\n    else:\n        print(i)\n        break",
      "execution_count": 56,
      "outputs": [
        {
          "output_type": "stream",
          "text": "8\n",
          "name": "stdout"
        }
      ]
    },
    {
      "metadata": {},
      "cell_type": "markdown",
      "source": "### Pick a candy\n\nIn this exercise, you will write a program to randomly select a candy from a box."
    },
    {
      "metadata": {
        "trusted": true
      },
      "cell_type": "code",
      "source": "# [ ] Complete the function `pick_candy` so it returns a candy from box at random\nfrom random import randint\n\ndef pick_candy():\n    box = [\"Taffy\", \"Brownie\", \"Cookie\", \"Candy bar\", \"Chocolate\", \"Lollipop\", \"Gingerbread\", \"Marshmallow\"]\n    pick = randint(0,7)\n    return box[pick]\n\nprint(pick_candy())\n\n",
      "execution_count": 6,
      "outputs": [
        {
          "output_type": "stream",
          "text": "Lollipop\n",
          "name": "stdout"
        }
      ]
    },
    {
      "metadata": {},
      "cell_type": "markdown",
      "source": "### Shuffle a sorted list"
    },
    {
      "metadata": {
        "trusted": true
      },
      "cell_type": "code",
      "source": "# [ ] Write a program to shuffle the following sorted list\nfrom random import shuffle\n\nlst = [3, 5, 9, 29, 35, 59, 62, 69, 102, 394, 594, 1993]\n\nshuffle(lst)\n\nprint(lst)\n\n",
      "execution_count": 9,
      "outputs": [
        {
          "output_type": "stream",
          "text": "[594, 29, 59, 394, 3, 102, 35, 5, 69, 62, 1993, 9]\n",
          "name": "stdout"
        }
      ]
    },
    {
      "metadata": {},
      "cell_type": "markdown",
      "source": "---\n<font size=\"6\" color=\"#B24C00\"  face=\"verdana\"> <B>Task 4</B></font>\n\n## Working with date and time\n"
    },
    {
      "metadata": {},
      "cell_type": "markdown",
      "source": "### Current date and time"
    },
    {
      "metadata": {
        "trusted": true
      },
      "cell_type": "code",
      "source": "# [ ] Write a program that displays the current time as (HH:MM AM/PM) (example 02:28 PM)\nfrom datetime import datetime\n\nprint(datetime.now().strftime(\"%I:%M %p\"))\n",
      "execution_count": 13,
      "outputs": [
        {
          "output_type": "stream",
          "text": "11:17 AM\n",
          "name": "stdout"
        }
      ]
    },
    {
      "metadata": {
        "trusted": true
      },
      "cell_type": "code",
      "source": "# [ ] Write a program that displays the current time as (HH:MM:SS) (example 14:28:10)\nfrom datetime import datetime\n\nprint(datetime.now().strftime(\"%H:%M:%S\"))\n",
      "execution_count": 14,
      "outputs": [
        {
          "output_type": "stream",
          "text": "11:18:11\n",
          "name": "stdout"
        }
      ]
    },
    {
      "metadata": {
        "trusted": true
      },
      "cell_type": "code",
      "source": "# [ ] Write a program that displays the current date as (Friday, December 15, 2017)\n\nfrom datetime import datetime\n\nprint(datetime.now().strftime(\"%A, %B %d, %Y\"))",
      "execution_count": 15,
      "outputs": [
        {
          "output_type": "stream",
          "text": "Monday, December 09, 2019\n",
          "name": "stdout"
        }
      ]
    },
    {
      "metadata": {},
      "cell_type": "markdown",
      "source": "### American VS European date format\n\nIn the United States, the date is formatted as Month/Day/Year; whereas, in Europe the date is formatted as Day/Month/Year. In this exercise, you will write two functions that will display a `datetime` object in the American or European format."
    },
    {
      "metadata": {
        "trusted": true
      },
      "cell_type": "code",
      "source": "# [ ] Complete the functions `american_format(d)` and `european_format(d)` to display the datetime object d in the proper format\n\nfrom datetime import datetime\n\ndef american_format(d):\n    return d.strftime(\"%m/%d/%y\")\n    \ndef european_format(d):\n    return d.strftime(\"%d/%m/%y\")\n    \n# test\nd = datetime(month = 2, year = 2012, day = 13)\n\nprint(\"American format:\", american_format(d))\nprint(\"European format:\", european_format(d))\n\n\n",
      "execution_count": 16,
      "outputs": [
        {
          "output_type": "stream",
          "text": "American format: 02/13/12\nEuropean format: 13/02/12\n",
          "name": "stdout"
        }
      ]
    },
    {
      "metadata": {},
      "cell_type": "markdown",
      "source": "### Birthday days"
    },
    {
      "metadata": {
        "trusted": true
      },
      "cell_type": "code",
      "source": "# [ ] Write a program to display a list of all your birthdays from the day you were born till 2025.\n# You should also show the weekdays so you can see which of them was (or will be) on a weekend\nfrom datetime import date\n\nbirth = date(1968, 11, 10)\n\nbd_weekend = {}\n\nfor i in range(2025-1968):\n    birth_day = birth.replace(year = 1968 + i +1 )\n    if birth_day.weekday() == 5 or birth_day.weekday() == 6:\n        bd_weekend[1968 + i] = birth_day.strftime(\"%A\")\n    else:\n        pass\n\nprint(bd_weekend)\n",
      "execution_count": 52,
      "outputs": [
        {
          "output_type": "stream",
          "text": "{1972: 'Saturday', 1973: 'Sunday', 1978: 'Saturday', 1983: 'Saturday', 1984: 'Sunday', 1989: 'Saturday', 1990: 'Sunday', 1995: 'Sunday', 2000: 'Saturday', 2001: 'Sunday', 2006: 'Saturday', 2011: 'Saturday', 2012: 'Sunday', 2017: 'Saturday', 2018: 'Sunday', 2023: 'Sunday'}\n",
          "name": "stdout"
        }
      ]
    },
    {
      "metadata": {},
      "cell_type": "markdown",
      "source": "---\n<font size=\"6\" color=\"#B24C00\"  face=\"verdana\"> <B>Task 5</B></font>\n\n## Date and Time Arithmetic\n"
    },
    {
      "metadata": {},
      "cell_type": "markdown",
      "source": "### `timedelta`"
    },
    {
      "metadata": {
        "trusted": true
      },
      "cell_type": "code",
      "source": "# Write a program to find out how many minutes are in a 4-week period\n# Hint: Use a timedelta object and the total_seconds() method\n\nfrom datetime import timedelta\n\ndd = timedelta(weeks = 4)\n\nprint(dd.total_seconds())",
      "execution_count": 55,
      "outputs": [
        {
          "output_type": "stream",
          "text": "2419200.0\n",
          "name": "stdout"
        }
      ]
    },
    {
      "metadata": {
        "trusted": true
      },
      "cell_type": "code",
      "source": "### Date arithmetic",
      "execution_count": null,
      "outputs": []
    },
    {
      "metadata": {
        "trusted": true
      },
      "cell_type": "code",
      "source": "# [ ] Write a program to compute the number of days remaining in the current year\nfrom datetime import date, timedelta\n\nyear_end = date(2019, 12, 31)\n\nprint((year_end - date.today()).days)\n",
      "execution_count": 60,
      "outputs": [
        {
          "output_type": "stream",
          "text": "22\n",
          "name": "stdout"
        }
      ]
    },
    {
      "metadata": {},
      "cell_type": "markdown",
      "source": "### Comparing `datetime` objects"
    },
    {
      "metadata": {
        "trusted": true
      },
      "cell_type": "code",
      "source": "# [ ] Complete the program below to find out if July 4th is within 10 days of today's date,\n# if it is, find out if has passed or not\n\nfrom datetime import datetime\nimport math\n\n# get today's date\ntodays_date = datetime.today()\n\n# 4th of July of current year\njuly_4th = datetime(month = 7, day = 4, year = todays_date.year)\n\ndays_difference = todays_date - july_4th\n\nprint(days_difference.days > 0)\n\nif math.fabs(days_difference.days) < 10:\n    if days_difference.days > 0:\n        print(\"Jul 4 has passed\")\n    elif days_difference.days == 0:\n        print(\"it's Jul 4th today!\")\n    else:\n        print(\"Jul 4th hasn't come yet\")\n\n",
      "execution_count": 68,
      "outputs": [
        {
          "output_type": "stream",
          "text": "True\n",
          "name": "stdout"
        }
      ]
    },
    {
      "metadata": {},
      "cell_type": "markdown",
      "source": "---\n<font size=\"6\" color=\"#B24C00\"  face=\"verdana\"> <B>Task 6</B></font>\n\n## File System\n"
    },
    {
      "metadata": {},
      "cell_type": "markdown",
      "source": "### Directory operations"
    },
    {
      "metadata": {
        "trusted": true
      },
      "cell_type": "code",
      "source": "# [ ] Complete the following program to:\n# 1) navigate to `parent_dir` directory (if not already in it)\n# 2) create a new directory called `practice_1`\n# 3) change the working directory to `practice_1`\n# 4) display the current working directory to verify you are in the correct location\n# 5) create a new directory called `practice_2`\n# 6) verify that `practice_2` was created by listing the content of the current directory\n# 7) rename `practice_2` as `sub_practice_2`\n# 8) verify the name was successful changed by listing the content of the current directory\n# 9) remove `sub_practice_2`\n# 10) change working directory to the parent directory using `..`\n# 11) remove `practice_1`\n# 12) verify your current working directory and display its content\n\nimport os, os.path\n\n# 1) navigate to `parent_dir` directory (if not already in it)\nif('parent_dir' not in os.getcwd()):\n    # Changing the current working directory to parent dir\n    print(\"Changing working dir to parent_dir\")\n    os.chdir('parent_dir')\n    print(\"Current working directory:\", os.getcwd())\n\n# 2) create a new directory called `practice_1`\n# os.mkdir('practice_1')\nprint(os.listdir())\n\n# 3) change the working directory to `practice_1`\n# os.chdir(\"practice_1\")\n\n\n# 4) display the current working directory to verify you are in the correct location\nprint(os.getcwd())\n\n# 5) create a new directory called `practice_2`\nos.mkdir(\"practice_2\")\n\n\n# 6) verify that `practice_2` was created by listing the content of the current directory\nprint(os.listdir())\n\n# 7) rename `practice_2` as `sub_practice_2`\nprint(os.rename('practice_2', 'sub_practice_2'))\n\n\n# 8) verify the name was successful changed by listing the content of the current directory\nprint(os.listdir())\n\n# 9) remove `sub_practice_2`\nos.rmdir('sub_practice_2')\n\n\n# 10) change working directory to the parent directory using `..`\nos.chdir('..')\n\n\n# 11) remove `practice_1`\nos.rmdir('practice_1')\n\n\n# 12) verify your current working directory and display its content\nprint(os.listdir())\n\n\n",
      "execution_count": 5,
      "outputs": [
        {
          "output_type": "stream",
          "text": "[]\n/home/nbuser/library/parent_dir/practice_1\n['practice_2']\nNone\n['sub_practice_2']\n['child1_dir', 'parent_leaf.txt', 'child2_dir', 'text_file.txt']\n",
          "name": "stdout"
        }
      ]
    },
    {
      "metadata": {},
      "cell_type": "markdown",
      "source": "### Path operations"
    },
    {
      "metadata": {
        "trusted": true
      },
      "cell_type": "code",
      "source": "# [ ] Write a program that prompts the user for a file or directory name\n# if it exists in the current working directory, it prints whether it is a file or directory\nname = input('please input a file or directory name:')\nif os.path.exists(name):\n    if os.path.isfile(name):\n        print(name + \" exists and it's a file\")\n    elif os.path.isdir(name):\n        print(name + \" exists and it's a dir\")\nelse:\n    print(name + \" doesn't exist\")\n",
      "execution_count": 14,
      "outputs": [
        {
          "output_type": "stream",
          "name": "stdout",
          "text": "please input a file or directory name:text_file.txt\ntext_file.txt exists and it's a file\n"
        }
      ]
    },
    {
      "metadata": {},
      "cell_type": "markdown",
      "source": "---\n<font size=\"6\" color=\"#B24C00\"  face=\"verdana\"> <B>Module 1 Project</B></font>\n\n## Directory creator\n\n"
    },
    {
      "metadata": {
        "trusted": true
      },
      "cell_type": "code",
      "source": "# [ ] The following program is designed to generate a number of directories.\n# The directory names follow the pattern (MM_DD_YY_randnum), where:\n#     - MM_DD_YY: is today's date as month/day/year\n#     - randnum: is a random integer between 10000 and 50000\n# For example, if today is May 12th, 2016, then the following would be valid names: 05_12_16_11050 or 05_12_16_15001\n#\n# For this task, you should complete the functions:\n# 1) `directory_count()`\n# 2) `name_generator()`\n# 3) `directory_creator(name)`\n# 4) `create()`\n#\n# HINT: You should import all necessary modules\n\nimport os, datetime, math, random\n\ndef directory_count():\n    \"\"\"\n    Calculate the number of directories to be generated.\n    \n    I) Get the current minute using appropriate functionality from `datetime`\n    II) Take the square root of ..the current minute + 15\n    III) Round the square root to an integer\n    VI) return the rounded number as the number of directories to be created\n    \n    args: \n          NONE\n    \n    returns: \n         `dir_count`: number of directories to be created \n    \"\"\"\n    minutes = datetime.datetime.now().minute\n    return int(math.sqrt(minutes))\n\ndef name_generator():\n    \"\"\"\n    Generate a single directory name using the pattern (MM_DD_YY_randnum).\n    \n    args:\n         NONE\n    \n    returns:\n         `dir_name`: string containing a valid directory name\n    \"\"\"\n    now = datetime.datetime.now()\n    dir_name = str(now.month) + \"_\" + str(now.day) + \"_\" + str(now.year) + \"_\" + str(random.randrange(10000, 50000))\n    return dir_name\n\ndef directory_creator(name):\n    \"\"\"\n    Create a single directory called `name` in the current working directory.\n    \n    args:\n         name: directory to be created\n    \n    returns:\n         NONE\n    \"\"\"\n    os.mkdir(name)\n\ndef create():\n    \"\"\"\n    Generate the necessary directories.\n    \n    Use `directory_count` to calculate the number of directories, then use `directory_creator` and `name_generator`.\n\n    args:\n         NONE\n    \n    returns:\n         NONE\n    \"\"\"\n    dir_cnt = directory_count()\n    for i in range(dir_cnt - 1):\n         directory_creator(name_generator())\n\n\n# Change working directory to `parent_dir` or `create`\nif(\"parent_dir\" not in os.getcwd()):\n    if os.path.exists(\"./parent_dir\"):\n        print(\"Changing working dir to parent_dir\")\n        os.chdir(\"parent_dir\")\n    else:\n        os.mkdir(os.getcwd() + \"./parent_dir\")\n        print(\"Changing working dir to parent_dir\")\n        os.chdir(\"parent_dir\")\nelse:\n    # so the code can run multiple times \n    # while directory not ending with 'parent_dir' move up the path ..\\\n    while \"parent_dir\" not in os.getcwd()[-11:]:\n        # move up in dir to find 'parent_dir'\n        os.chdir(\"..\")\n        print(\"moved up\", os.getcwd())\n        \n# print the current working directory (should be \"parent_dir\")\nprint(\"The current working directory is:\", os.getcwd())\n\n# check for randoms_directory if not present, create new\nif os.path.exists(os.getcwd() + \"/randoms_directory\") != True:\n    os.mkdir(\"randoms_directory\")\n\n# change the current working directory to randoms_directory\nprint(\"Changing working dir to randoms_directory\")\nos.chdir(\"randoms_directory\")\n# print the current working directory (should be \"randoms_dir\")\nprint(\"The current working directory is:\", os.getcwd())\n\n# create directories inside \"randoms_directory\"\ncreate()\n    \n# list the content of the current directory\nprint(\"Current directory content:\", os.listdir())\n\n\n",
      "execution_count": 8,
      "outputs": [
        {
          "output_type": "stream",
          "text": "moved up /home/nbuser/library/parent_dir\nThe current working directory is: /home/nbuser/library/parent_dir\nChanging working dir to randoms_directory\nThe current working directory is: /home/nbuser/library/parent_dir/randoms_directory\nCurrent directory content: ['12_11_2019_17693', '12_11_2019_10377']\n",
          "name": "stdout"
        }
      ]
    }
  ],
  "metadata": {
    "kernelspec": {
      "name": "python36",
      "display_name": "Python 3.6",
      "language": "python"
    },
    "language_info": {
      "mimetype": "text/x-python",
      "nbconvert_exporter": "python",
      "name": "python",
      "pygments_lexer": "ipython3",
      "version": "3.6.6",
      "file_extension": ".py",
      "codemirror_mode": {
        "version": 3,
        "name": "ipython"
      }
    }
  },
  "nbformat": 4,
  "nbformat_minor": 2
}