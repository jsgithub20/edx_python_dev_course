{
  "cells": [
    {
      "metadata": {},
      "cell_type": "markdown",
      "source": "# 1-4.3 Intro Python\n## Conditionals \n- **`if`, `else`, `pass`**\n  - Conditionals using Boolean String Methods\n  - Comparison operators\n  - **String comparisons**\n\n----- \n\n><font size=\"5\" color=\"#00A0B2\"  face=\"verdana\"> <B>Student will be able to</B></font>  \n- **control code flow with `if`... `else` conditional logic**  \n  - using Boolean string methods (`.isupper(), .isalpha(), startswith()...`)  \n  - using comparison (`>, <, >=, <=, ==, !=`)  \n  - **using Strings in comparisons**  "
    },
    {
      "metadata": {},
      "cell_type": "markdown",
      "source": "# &nbsp;\n<font size=\"6\" color=\"#00A0B2\"  face=\"verdana\"> <B>Concept</B></font>\n## String Comparisons\n- ### Strings can be equal `==` or unequal `!=`\n- ### Strings can be greater than `>` or less than `<` \n- ### alphabetically `\"A\"` is less than `\"B\"`\n- ### lower case `\"a\"` is greater than upper case `\"A\"`"
    },
    {
      "metadata": {},
      "cell_type": "markdown",
      "source": "# &nbsp;\n<font size=\"6\" color=\"#00A0B2\"  face=\"verdana\"> <B>Examples</B></font>"
    },
    {
      "metadata": {
        "trusted": true
      },
      "cell_type": "code",
      "source": "# review and run code\n\"hello\" < \"Hello\"",
      "execution_count": 1,
      "outputs": [
        {
          "output_type": "execute_result",
          "execution_count": 1,
          "data": {
            "text/plain": "False"
          },
          "metadata": {}
        }
      ]
    },
    {
      "metadata": {
        "trusted": true
      },
      "cell_type": "code",
      "source": "# review and run code\n\"Aardvark\" > \"Zebra\"",
      "execution_count": 2,
      "outputs": [
        {
          "output_type": "execute_result",
          "execution_count": 2,
          "data": {
            "text/plain": "False"
          },
          "metadata": {}
        }
      ]
    },
    {
      "metadata": {
        "trusted": true
      },
      "cell_type": "code",
      "source": "# review and run code\n'student' != 'Student'",
      "execution_count": 3,
      "outputs": [
        {
          "output_type": "execute_result",
          "execution_count": 3,
          "data": {
            "text/plain": "True"
          },
          "metadata": {}
        }
      ]
    },
    {
      "metadata": {
        "trusted": true
      },
      "cell_type": "code",
      "source": "# review and run code\nprint(\"'student' >= 'Student' is\", 's' >= 'rtudent')\nprint(\"'student' != 'Student' is\", 'student' != 'Student')",
      "execution_count": 9,
      "outputs": [
        {
          "output_type": "stream",
          "text": "'student' >= 'Student' is True\n'student' != 'Student' is True\n",
          "name": "stdout"
        }
      ]
    },
    {
      "metadata": {
        "trusted": true
      },
      "cell_type": "code",
      "source": "# review and run code\n\"Hello \" + \"World!\" == \"Hello World!\"",
      "execution_count": 10,
      "outputs": [
        {
          "output_type": "execute_result",
          "execution_count": 10,
          "data": {
            "text/plain": "True"
          },
          "metadata": {}
        }
      ]
    },
    {
      "metadata": {},
      "cell_type": "markdown",
      "source": "# &nbsp;\n<font size=\"6\" color=\"#B24C00\"  face=\"verdana\"> <B>Task 1</B></font>\n## String Comparisons"
    },
    {
      "metadata": {
        "trusted": true
      },
      "cell_type": "code",
      "source": "msg = \"Hello\"\n# [ ] print the True/False results of testing if msg string equals \"Hello\" string\nif msg == \"Hello\":\n    print(msg == \"Hello\")\nelse:\n    pass\n\n",
      "execution_count": 11,
      "outputs": [
        {
          "output_type": "stream",
          "text": "True\n",
          "name": "stdout"
        }
      ]
    },
    {
      "metadata": {
        "trusted": true
      },
      "cell_type": "code",
      "source": "greeting = \"Hello\"\n# [ ] get input for variable named msg, and ask user to 'Say \"Hello\"'\n# [ ] print the results of testing if msg string equals greeting string\nuser_input = input('please say \"Hello\"')\nif user_input == greeting:\n    print(\"Hello!\")\nelse:\n    print(\"you didn't say 'Hello'\")\n\n",
      "execution_count": 13,
      "outputs": [
        {
          "output_type": "stream",
          "name": "stdout",
          "text": "please say \"Hello\"hi\nyou didn't say 'Hello'\n"
        }
      ]
    },
    {
      "metadata": {},
      "cell_type": "markdown",
      "source": "# &nbsp;\n<font size=\"6\" color=\"#00A0B2\"  face=\"verdana\"> <B>Concept</B></font>\n## Conditionals: String comparisons with `if`\n[![view video](https://iajupyterprodblobs.blob.core.windows.net/imagecontainer/common/play_video.png)]( http://edxinteractivepage.blob.core.windows.net/edxpages/f7cff1a7-5601-48a1-95a6-fd1fdfabd20e.html?details=[{\"src\":\"http://jupyternootbookwams.streaming.mediaservices.windows.net/d66365b5-03fa-4d0d-a455-5adba8b8fb1b/Unit1_Section4.3-string-compare-if.ism/manifest\",\"type\":\"application/vnd.ms-sstr+xml\"}],[{\"src\":\"http://jupyternootbookwams.streaming.mediaservices.windows.net/d66365b5-03fa-4d0d-a455-5adba8b8fb1b/Unit1_Section4.3-string-compare-if.vtt\",\"srclang\":\"en\",\"kind\":\"subtitles\",\"label\":\"english\"}])\n"
    },
    {
      "metadata": {},
      "cell_type": "markdown",
      "source": "# &nbsp;\n<font size=\"6\" color=\"#00A0B2\"  face=\"verdana\"> <B>Examples</B></font>"
    },
    {
      "metadata": {
        "trusted": false
      },
      "cell_type": "code",
      "source": "# [ ] review and run code\nmsg = \"Save the notebook\"\n\nif msg.lower() == \"save the notebook\":\n    print(\"message as expected\")\nelse:\n    print(\"message not as expected\")",
      "execution_count": null,
      "outputs": []
    },
    {
      "metadata": {
        "trusted": true
      },
      "cell_type": "code",
      "source": "# [ ] review and run code\nmsg = \"Save the notebook\"\nprediction = \"save the notebook\"\n\nif msg.lower() == prediction.lower():\n    print(\"message as expected\")\nelse:\n    print(\"message not as expected\")",
      "execution_count": 14,
      "outputs": [
        {
          "output_type": "stream",
          "text": "message as expected\n",
          "name": "stdout"
        }
      ]
    },
    {
      "metadata": {},
      "cell_type": "markdown",
      "source": "# &nbsp;\n<font size=\"6\" color=\"#B24C00\"  face=\"verdana\"> <B>Task 2</B></font>\n## Conditionals: comparison operators with if\n"
    },
    {
      "metadata": {
        "trusted": true
      },
      "cell_type": "code",
      "source": "# [ ] get input for a variable, answer, and ask user 'What is 8 + 13? : '\n# [ ] print messages for correct answer \"21\" or incorrect answer using if/else\n# note: input returns a \"string\"\nanswer = input(\"what is 8 + 13?\")\nif answer == str(8 + 13):\n    print(\"your answer {} is correct\".format(answer))\nelse:\n    print(\"your answer {} is incorrect\".format(answer))\n\n",
      "execution_count": 16,
      "outputs": [
        {
          "output_type": "stream",
          "name": "stdout",
          "text": "what is 8 + 13?22\nyour answer 22 is incorrect\n"
        }
      ]
    },
    {
      "metadata": {
        "collapsed": true
      },
      "cell_type": "markdown",
      "source": "# &nbsp;  \n<font size=\"6\" color=\"#B24C00\"  face=\"verdana\"> <B>Task 3</B></font>  \n## Program: True False Quiz Function\nCall the tf_quiz function with 2 arguments\n- T/F question string \n- answer key string like \"T\"  \n\nReturn a string: \"correct\" or incorrect\"\n[![view video](https://iajupyterprodblobs.blob.core.windows.net/imagecontainer/common/play_video.png)]( http://edxinteractivepage.blob.core.windows.net/edxpages/f7cff1a7-5601-48a1-95a6-fd1fdfabd20e.html?details=[{\"src\":\"http://jupyternootbookwams.streaming.mediaservices.windows.net/3805cc48-f5c9-4ec8-86ad-1e1db45788e4/Unit1_Section4.3-TF-quiz.ism/manifest\",\"type\":\"application/vnd.ms-sstr+xml\"}],[{\"src\":\"http://jupyternootbookwams.streaming.mediaservices.windows.net/3805cc48-f5c9-4ec8-86ad-1e1db45788e4/Unit1_Section4.3-TF-quiz.vtt\",\"srclang\":\"en\",\"kind\":\"subtitles\",\"label\":\"english\"}])\n### Define and use `tf_quiz()` function  \n- **`tf_quiz()`** has **2 parameters** which are both string arguments  \n  - **`question`**: a string containg a T/F question like \"Should save your notebook after edit?(T/F): \"  \n  - **`correct_ans`**: a string indicating the *correct answer*, either **\"T\"** or **\"F\"** \n- **`tf_quiz()`** returns a string:  \"correct\" or \"incorrect\"\n- Test tf_quiz(): **create a T/F question** (*or several!*) to **call tf_quiz()**  \n"
    },
    {
      "metadata": {
        "trusted": true
      },
      "cell_type": "code",
      "source": "# [ ] Create the program, run tests\ndef tf_quiz(question, correct_ans):\n    if correct_ans:\n        return \"correct\"\n    else:\n        return \"incorrect\"\n\nquestions = (\"should save your notebook after edit?(T/F)\", \"should put your chair back after work? (T/F)\", \"should turn off the computer after work? (T/F)\")\n\ni = 0\n\nwhile i < 3:\n    i + 1\n    n = 0\n    while n < 3:\n        print(questions.i(n))\n        n = n + 1\n    question = input(\"choose a question\")\n",
      "execution_count": 20,
      "outputs": [
        {
          "output_type": "error",
          "ename": "AttributeError",
          "evalue": "'tuple' object has no attribute 'i'",
          "traceback": [
            "\u001b[0;31m---------------------------------------------------------------------------\u001b[0m",
            "\u001b[0;31mAttributeError\u001b[0m                            Traceback (most recent call last)",
            "\u001b[0;32m<ipython-input-20-8b7ae0b1fe53>\u001b[0m in \u001b[0;36m<module>\u001b[0;34m()\u001b[0m\n\u001b[1;32m     14\u001b[0m     \u001b[0mn\u001b[0m \u001b[0;34m=\u001b[0m \u001b[0;36m0\u001b[0m\u001b[0;34m\u001b[0m\u001b[0m\n\u001b[1;32m     15\u001b[0m     \u001b[0;32mwhile\u001b[0m \u001b[0mn\u001b[0m \u001b[0;34m<\u001b[0m \u001b[0;36m3\u001b[0m\u001b[0;34m:\u001b[0m\u001b[0;34m\u001b[0m\u001b[0m\n\u001b[0;32m---> 16\u001b[0;31m         \u001b[0mprint\u001b[0m\u001b[0;34m(\u001b[0m\u001b[0mquestions\u001b[0m\u001b[0;34m.\u001b[0m\u001b[0mi\u001b[0m\u001b[0;34m(\u001b[0m\u001b[0mn\u001b[0m\u001b[0;34m)\u001b[0m\u001b[0;34m)\u001b[0m\u001b[0;34m\u001b[0m\u001b[0m\n\u001b[0m\u001b[1;32m     17\u001b[0m         \u001b[0mn\u001b[0m \u001b[0;34m=\u001b[0m \u001b[0mn\u001b[0m \u001b[0;34m+\u001b[0m \u001b[0;36m1\u001b[0m\u001b[0;34m\u001b[0m\u001b[0m\n\u001b[1;32m     18\u001b[0m     \u001b[0mquestion\u001b[0m \u001b[0;34m=\u001b[0m \u001b[0minput\u001b[0m\u001b[0;34m(\u001b[0m\u001b[0;34m\"choose a question\"\u001b[0m\u001b[0;34m)\u001b[0m\u001b[0;34m\u001b[0m\u001b[0m\n",
            "\u001b[0;31mAttributeError\u001b[0m: 'tuple' object has no attribute 'i'"
          ]
        }
      ]
    },
    {
      "metadata": {},
      "cell_type": "markdown",
      "source": "[Terms of use](http://go.microsoft.com/fwlink/?LinkID=206977) &nbsp; [Privacy & cookies](https://go.microsoft.com/fwlink/?LinkId=521839) &nbsp; © 2017 Microsoft"
    }
  ],
  "metadata": {
    "anaconda-cloud": {},
    "kernelspec": {
      "name": "python3",
      "display_name": "Python 3",
      "language": "python"
    },
    "language_info": {
      "mimetype": "text/x-python",
      "nbconvert_exporter": "python",
      "name": "python",
      "file_extension": ".py",
      "version": "3.5.4",
      "pygments_lexer": "ipython3",
      "codemirror_mode": {
        "version": 3,
        "name": "ipython"
      }
    }
  },
  "nbformat": 4,
  "nbformat_minor": 1
}