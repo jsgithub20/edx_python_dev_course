{
  "cells": [
    {
      "metadata": {},
      "cell_type": "markdown",
      "source": "# Section 3.2: Files\n* os.remove, os.unlink\n* os.path.exists, os.path.isdir, os.path.isfile\n* `with`\n\n### Students will be able to:\n* Delete files\n* Check that a file exists\n* Check if a path is a file or directory\n* Handle file exceptions\n* Use `with` statement close an open file after catching an exception"
    },
    {
      "metadata": {},
      "cell_type": "markdown",
      "source": "---\n<font size=\"6\" color=\"#00A0B2\"  face=\"verdana\"> <B>Concepts</B></font>  \n\n## Deleting Files\n\n[![view video](https://iajupyterprodblobs.blob.core.windows.net/imagecontainer/common/play_video.png)](https://www.youtube.com/watch?v=qSYMdOq_96g)\n\nIn module 1 you explored the `os` module and used some of its methods to interact with the file system. You changed the working directory, listed the content of a path, created new directories, removed directories, and renamed files and directories. In addition to these utilities, Python's `os` module allows you to remove specific files using the `os.remove(path)` or `os.unlink(path)` functions. Both functions are semantically identical; however, their functionality slightly differs depending on the platform running your program. For now, we will consider them equivalent and use `os.remove(path)` to delete a file."
    },
    {
      "metadata": {},
      "cell_type": "markdown",
      "source": "---\n<font size=\"6\" color=\"#00A0B2\"  face=\"verdana\"> <B>Examples</B></font>\n\n### Removing a file"
    },
    {
      "metadata": {
        "trusted": true
      },
      "cell_type": "code",
      "source": "import os\n\n# Create a file to be deleted\nfile_path = \"parent_dir/tmp_file_to_be_deleted.txt\"\nf = open(file_path, 'w')\nf.close()\n\n# list the content of parent_dir\nprint('Content of \"parent_dir\" after creating the file:')\nprint(os.listdir(\"parent_dir\"))\nprint()\n\n# delete the file\nos.remove(file_path)\n\n# list the content of parent_dir\nprint('Content of \"parent_dir\" after removing the file')\nprint(os.listdir(\"parent_dir\"))\n",
      "execution_count": 1,
      "outputs": [
        {
          "output_type": "stream",
          "text": "Content of \"parent_dir\" after creating the file:\n['child1_dir', 'text_file.txt', 'randoms_directory', 'parent_leaf.txt', 'child2_dir', 'tmp_file_to_be_deleted.txt']\n\nContent of \"parent_dir\" after removing the file\n['child1_dir', 'text_file.txt', 'randoms_directory', 'parent_leaf.txt', 'child2_dir']\n",
          "name": "stdout"
        }
      ]
    },
    {
      "metadata": {},
      "cell_type": "markdown",
      "source": "---\n<font size=\"6\" color=\"#B24C00\"  face=\"verdana\"> <B>Task 1</B></font>"
    },
    {
      "metadata": {},
      "cell_type": "markdown",
      "source": "## Setting Up the Environment (no coding required)\nThis code segment creates a directory named `files_exercises` that contains five subdirectories named `dir_1`, `dir_2`, ...`dir_5` and 100 text files named sequentially from 0 to 99. The first line of each text file is a random number from 1000 to 9999."
    },
    {
      "metadata": {
        "trusted": true
      },
      "cell_type": "code",
      "source": "# Do not modify or add anything to this code segment.\n# This code segment must be run before attempting any of the tasks in this lesson.\n# It prepares the directories and files necessary to complete the tasks.\n\nimport os, random, shutil\n\n# Navigate to `parent_dir` directory (if not already in it)\ncurrent_path = os.getcwd()\nif (\"parent_dir\" in current_path):\n    nb_path = current_path.split(\"parent_dir\")[0]\nelse:\n    nb_path = current_path\nprint(\"Changing working dir to parent_dir\")\nos.chdir(os.path.join(nb_path,'parent_dir'))\nprint(\"Current working directory:\", os.getcwd())\n\n# Remove the `files_exercises` directory (if it exists)\nif('files_exercises' in os.listdir()):\n    print('Removing \"files_exercises\"')\n    shutil.rmtree('files_exercises')\n    \n# Create a new directory called `files_exercises`\nprint('Making \"files_exercises\"')\nos.mkdir('files_exercises')\n\n# Change the working directory to `files_exercises`\nprint('Changing working directory to \"files_exercises\"')\nos.chdir('files_exercises')\n\n# Display the current working directory to verify you are in the correct location\nprint(\"Current working directory:\", os.getcwd())\n\n# Create 100 text files, the first line of each file is a random number in the range [1000, 9999]\nprint(\"Creating 100 text files\")\nrandom.seed(25000) # to get the same random numbers every time the setup runs\nfor i in range(100):\n    file_name = str(i) + \".txt\"\n    f = open(file_name, 'w')\n    f.write(str(random.randint(1000, 9999)))\n    f.close()\n\n# Create 5 directories\nprint(\"Creating 5 directories\")\nfor i in range(1, 6):\n    os.mkdir(\"dir_\"+str(i))\n\nprint(\"Environment setup completed!\")",
      "execution_count": 6,
      "outputs": [
        {
          "output_type": "stream",
          "text": "Changing working dir to parent_dir\nCurrent working directory: /home/nbuser/library/parent_dir\nRemoving \"files_exercises\"\nMaking \"files_exercises\"\nChanging working directory to \"files_exercises\"\nCurrent working directory: /home/nbuser/library/parent_dir/files_exercises\nCreating 100 text files\nCreating 5 directories\nEnvironment setup completed!\n",
          "name": "stdout"
        }
      ]
    },
    {
      "metadata": {},
      "cell_type": "markdown",
      "source": "## Deleting Files"
    },
    {
      "metadata": {
        "trusted": true
      },
      "cell_type": "code",
      "source": "# [ ] Complete the following program to delete the first 10 files inside `files_exercises` (0.txt, 1.txt ... 9.txt)\n# Make sure the to run the environment setup code before running your own program.\n\nimport os\n\nif ('files_exercises' not in os.getcwd()):\n    print(\"STOP!!!! Run the environment setup code!\")\n\n# list the content of `files_exercises`\nprint('Content of \"files_exercises\" before removing the files')\nprint(os.listdir()) \n\nfor i in range(10):\n    os.remove('{}.txt'.format(str(i)))\n    \n# list the content of `files_exercises`\nprint('Content of \"files_exercises\" after removing the files')\nprint(sorted(os.listdir()))\n\n\n",
      "execution_count": 3,
      "outputs": [
        {
          "output_type": "stream",
          "text": "STOP!!!! Run the environment setup code!\nContent of \"files_exercises\" before removing the files\n['Required_Code_Mod04.ipynb', '3-4.3_intro_Python.ipynb', '3-2.2_intro_Python.ipynb', '3-3.3_intro_Python.ipynb', 'Untitled 2.ipynb', '3-4.5_Mod04_Practice.ipynb', '3-1.4_intro_Python.ipynb', '3-2.4_intro_Python.ipynb', 'Required_Code_Mod01.ipynb', '3-2.1_intro_Python.ipynb', 'parent_dir', '3-4.2_intro_Python.ipynb', '3-1.2_intro_Python.ipynb', 'Final_Required_Code.ipynb', '3-3.5_Mod03_Practice.ipynb', 'Required_Code_Mod03.ipynb', 'Required_Code_Mod02.ipynb', '3-2.3_intro_Python.ipynb', '3-1.1_intro_Python.ipynb', '3-3.1_intro_Python.ipynb', '3-2.5_Mod02_Practice.ipynb', '3-1.3_intro_Python.ipynb', '.ipynb_checkpoints', '3-4.1_intro_Python.ipynb', 'command_line', 'Untitled 1.ipynb', '3-1.5_Mod01_Practice.ipynb', 'Untitled.ipynb', '3-3.2_intro_Python.ipynb', '3-3.4_intro_Python.ipynb', 'data', '3-4.4_intro_Python.ipynb']\n",
          "name": "stdout"
        },
        {
          "output_type": "error",
          "ename": "FileNotFoundError",
          "evalue": "[Errno 2] No such file or directory: '0.txt'",
          "traceback": [
            "\u001b[0;31m---------------------------------------------------------------------------\u001b[0m",
            "\u001b[0;31mFileNotFoundError\u001b[0m                         Traceback (most recent call last)",
            "\u001b[0;32m<ipython-input-3-8d197c1e8e8a>\u001b[0m in \u001b[0;36m<module>\u001b[0;34m()\u001b[0m\n\u001b[1;32m     12\u001b[0m \u001b[0;34m\u001b[0m\u001b[0m\n\u001b[1;32m     13\u001b[0m \u001b[0;32mfor\u001b[0m \u001b[0mi\u001b[0m \u001b[0;32min\u001b[0m \u001b[0mrange\u001b[0m\u001b[0;34m(\u001b[0m\u001b[0;36m10\u001b[0m\u001b[0;34m)\u001b[0m\u001b[0;34m:\u001b[0m\u001b[0;34m\u001b[0m\u001b[0m\n\u001b[0;32m---> 14\u001b[0;31m     \u001b[0mos\u001b[0m\u001b[0;34m.\u001b[0m\u001b[0mremove\u001b[0m\u001b[0;34m(\u001b[0m\u001b[0;34m'{}.txt'\u001b[0m\u001b[0;34m.\u001b[0m\u001b[0mformat\u001b[0m\u001b[0;34m(\u001b[0m\u001b[0mstr\u001b[0m\u001b[0;34m(\u001b[0m\u001b[0mi\u001b[0m\u001b[0;34m)\u001b[0m\u001b[0;34m)\u001b[0m\u001b[0;34m)\u001b[0m\u001b[0;34m\u001b[0m\u001b[0m\n\u001b[0m\u001b[1;32m     15\u001b[0m \u001b[0;34m\u001b[0m\u001b[0m\n\u001b[1;32m     16\u001b[0m \u001b[0;31m# list the content of `files_exercises`\u001b[0m\u001b[0;34m\u001b[0m\u001b[0;34m\u001b[0m\u001b[0m\n",
            "\u001b[0;31mFileNotFoundError\u001b[0m: [Errno 2] No such file or directory: '0.txt'"
          ]
        }
      ]
    },
    {
      "metadata": {},
      "cell_type": "markdown",
      "source": "---\n<font size=\"6\" color=\"#00A0B2\"  face=\"verdana\"> <B>Concepts</B></font>  \n\n\n## Checking File Existence\n\n\n[![view video](https://iajupyterprodblobs.blob.core.windows.net/imagecontainer/common/play_video.png)](https://www.youtube.com/watch?v=PbXCwHKlgCk)\n\nIn the previous section, you deleted a file assuming that it exists and assuming it is actually a file. In reality, these assumptions are not always true and you should consider them when writing programs that deal with files.\n\n#### Removing a file that doesn't exist\nRaises a `FileNotFoundError` exception. \n\n```python\n# Removing a file that does not exist\nfile_path = \"parent_dir/fictitious_file.txt\"\nos.remove(file_path)\n\n-------------------------------------------------------------------------\nFileNotFoundError                       Traceback (most recent call last)\n<ipython-input-8-9e62af9a8388> in <module>()\n      1 # Removing a file that does not exist\n      2 file_path = \"parent_dir/fictitious_file.txt\"\n----> 3 os.remove(file_path)\n\nFileNotFoundError: [Errno 2] No such file or directory: 'parent_dir/fictitious_file.txt'\n```\n\n#### Removing a directory using `os.remove`\nWhen a directory is passed as an argument for `os.remove` a `PermissionError` is raised.\n\n```python\n# Passing a directory path to os.remove\ndir_path = \"parent_dir\"\nos.remove(dir_path)\n\n-------------------------------------------------------------------------\nPermissionError                         Traceback (most recent call last)\n<ipython-input-9-698c1518adf7> in <module>()\n      1 # Passing a directory path to os.remove\n      2 dir_path = \"parent_dir\"\n----> 3 os.remove(dir_path)\n\nPermissionError: [Errno 1] Operation not permitted: 'parent_dir'\n```\n\n### Simple solution\nIn module 1 you were able to check if a path exists using `os.path.exists(path)`; in addition, you were able to figure out if a `path` is a file or directory using `os.path.isfile` and `os.path.isdir` respectively. You can use these functions to test a path and avoid the exceptions above."
    },
    {
      "metadata": {},
      "cell_type": "markdown",
      "source": "---\n<font size=\"6\" color=\"#00A0B2\"  face=\"verdana\"> <B>Examples</B></font>\n"
    },
    {
      "metadata": {
        "trusted": true
      },
      "cell_type": "code",
      "source": "import os.path\n\nfile_path = \"parent_dir/fictitious_file.txt\"\n\n# Removing a file\n\n# Check if the path exists\nif (os.path.exists(file_path)):\n    if (os.path.isfile(file_path)):\n        os.remove(file_path)\n    else:\n        print(\"Cannot remove a directory\")\nelse:\n    print(\"path does not exist\")",
      "execution_count": 10,
      "outputs": [
        {
          "output_type": "stream",
          "text": "path does not exist\n",
          "name": "stdout"
        }
      ]
    },
    {
      "metadata": {
        "trusted": true
      },
      "cell_type": "code",
      "source": "import os.path\n\nfile_path = \"parent_dir\"\n\n# Removing a file\n\n# Check if the path exists\nif (os.path.exists(file_path)):\n    if (os.path.isfile(file_path)):\n        os.remove(file_path)\n    else:\n        print(\"Cannot remove a directory\")\nelse:\n    print(\"path does not exist\")",
      "execution_count": 11,
      "outputs": [
        {
          "output_type": "stream",
          "text": "path does not exist\n",
          "name": "stdout"
        }
      ]
    },
    {
      "metadata": {},
      "cell_type": "markdown",
      "source": "---\n<font size=\"6\" color=\"#B24C00\"  face=\"verdana\"> <B>Task 2</B></font>\n\n## Checking File Existence\n"
    },
    {
      "metadata": {
        "trusted": true
      },
      "cell_type": "code",
      "source": "# [ ] Write a program to delete all the even numbered files inside `files_exercises`\n# Make sure the to run the environment setup code before running your own program.\n\nimport os\n\nif ('files_exercises' not in os.getcwd()):\n    print(\"STOP!!!! Run the environment setup code!\")\nelse:\n    current_path = os.getcwd()\n    if (\"files_exercises\" in current_path):\n        nb_path = current_path.split(\"files_exercises\")[0]\n        print(\"Changing working dir to files_exercises\")\n        os.chdir(os.path.join(nb_path,'files_exercises'))\n        print(\"Current working directory:\", os.getcwd())\n    elif 'parent_dir' in current_path:\n        nb_path = current_path\n        print(\"Changing working dir to files_exercises\")\n        os.chdir(os.path.join(nb_path,'files_exercises'))\n        print(\"Current working directory:\", os.getcwd())\n    else:\n        print('check directory structure')\n\nfor file in os.listdir():\n    if '.' in file:\n        if int(file.split('.')[0]) % 2 == 0:\n            os.remove(file)\n\nprint('even-numbered files removed')\nprint(sorted(os.listdir()))\n",
      "execution_count": 7,
      "outputs": [
        {
          "output_type": "stream",
          "text": "Changing working dir to files_exercises\nCurrent working directory: /home/nbuser/library/parent_dir/files_exercises\neven-numbered files removed\n['1.txt', '11.txt', '13.txt', '15.txt', '17.txt', '19.txt', '21.txt', '23.txt', '25.txt', '27.txt', '29.txt', '3.txt', '31.txt', '33.txt', '35.txt', '37.txt', '39.txt', '41.txt', '43.txt', '45.txt', '47.txt', '49.txt', '5.txt', '51.txt', '53.txt', '55.txt', '57.txt', '59.txt', '61.txt', '63.txt', '65.txt', '67.txt', '69.txt', '7.txt', '71.txt', '73.txt', '75.txt', '77.txt', '79.txt', '81.txt', '83.txt', '85.txt', '87.txt', '89.txt', '9.txt', '91.txt', '93.txt', '95.txt', '97.txt', '99.txt', 'dir_1', 'dir_2', 'dir_3', 'dir_4', 'dir_5']\n",
          "name": "stdout"
        }
      ]
    },
    {
      "metadata": {
        "trusted": true
      },
      "cell_type": "code",
      "source": "# [ ] Write a program to delete all the directories inside `files_exercises`\n# Make sure the to run the environment setup code before running your own program.\n\nimport os\n\nif ('files_exercises' not in os.getcwd()):\n    print(\"STOP!!!! Run the environment setup code!\")\nelse:\n    current_path = os.getcwd()\n    if (\"files_exercises\" in current_path):\n        nb_path = current_path.split(\"files_exercises\")[0]\n        print(\"Changing working dir to files_exercises\")\n        os.chdir(os.path.join(nb_path,'files_exercises'))\n        print(\"Current working directory:\", os.getcwd())\n    elif 'parent_dir' in current_path:\n        nb_path = current_path\n        print(\"Changing working dir to files_exercises\")\n        os.chdir(os.path.join(nb_path,'files_exercises'))\n        print(\"Current working directory:\", os.getcwd())\n    else:\n        print('check directory structure')\n\nfor file in os.listdir():\n    if '.' not in file:\n        os.rmdir(file)\n\nprint('all directories removed')\nprint(os.listdir())\n",
      "execution_count": 24,
      "outputs": [
        {
          "output_type": "stream",
          "text": "Changing working dir to files_exercises\nCurrent working directory: /home/nbuser/library/parent_dir/files_exercises\nall directories removed\n['53.txt', '67.txt', '15.txt', '11.txt', '57.txt', '77.txt', '45.txt', '27.txt', '47.txt', '33.txt', '93.txt', '79.txt', '73.txt', '95.txt', '99.txt', '41.txt', '13.txt', '23.txt', '75.txt', '55.txt', '71.txt', '35.txt', '37.txt', '59.txt', '39.txt', '63.txt', '43.txt', '25.txt', '49.txt', '89.txt', '81.txt', '61.txt', '87.txt', '19.txt', '97.txt', '83.txt', '17.txt', '29.txt', '51.txt', '91.txt', '69.txt', '65.txt', '31.txt', '85.txt', '21.txt']\n",
          "name": "stdout"
        }
      ]
    },
    {
      "metadata": {
        "trusted": true
      },
      "cell_type": "code",
      "source": "### [ ] Write a program to ask the user for a file number, \n# then delete the file if it exists or display an appropriate error message if it does not.\n# Make sure the to run the environment setup code before running your own program.\n\n# Test your program with the following:\n# case 1: user inputs 84, 84.txt should be deleted\n# case 2: user inputs 84 (again), a File does not exist message is printed\n# case 3: user inputs 5, 5.txt should be deleted\n\nimport os\n\nif ('files_exercises' not in os.getcwd()):\n    print(\"STOP!!!! Run the environment setup code!\")\nelse:\n    current_path = os.getcwd()\n    if (\"files_exercises\" in current_path):\n        nb_path = current_path.split(\"files_exercises\")[0]\n        print(\"Changing working dir to files_exercises\")\n        os.chdir(os.path.join(nb_path,'files_exercises'))\n        print(\"Current working directory:\", os.getcwd())\n    elif 'parent_dir' in current_path:\n        nb_path = current_path\n        print(\"Changing working dir to files_exercises\")\n        os.chdir(os.path.join(nb_path,'files_exercises'))\n        print(\"Current working directory:\", os.getcwd())\n    else:\n        print('check directory structure')\n\nuin = input('please input a file number to delete: ')\n\nif os.path.exists(uin+'.txt'):\n    print('deleting file {}.txt'.format(uin))\n    os.remove('{}.txt'.format(uin))\nelse:\n    print(\"{}.txt doesn't exist\".format(uin))",
      "execution_count": 31,
      "outputs": [
        {
          "output_type": "stream",
          "text": "Changing working dir to files_exercises\nCurrent working directory: /home/nbuser/library/parent_dir/files_exercises\nplease input a file number to delete: 15\ndeleting file 15.txt\n",
          "name": "stdout"
        }
      ]
    },
    {
      "metadata": {},
      "cell_type": "markdown",
      "source": "---\n<font size=\"6\" color=\"#00A0B2\"  face=\"verdana\"> <B>Concepts</B></font>  \n\n## Handling File Exceptions\n\n[![view video](https://iajupyterprodblobs.blob.core.windows.net/imagecontainer/common/play_video.png)](https://www.youtube.com/watch?v=E_e8PbgSqYg)\n\nIn the previous example, you anticipated some errors and tried to avoid them by testing that a path exists and whether it is to a file or directory. However, you still assumed the results of these tests are static and won't change while your program is running. This assumption might lead to errors again. For example, say you test for the existence of a file and determine that the file exists at the given path, and right after that another program moves the file; if your program attempts to remove the file, it will raise a `FileNotFoundError` because the file no longer exists in that location. Of course, this is considered an unhandled exception and your program will stop executing and display the error message as before.\n\nPython's philosophy in this case is to deal with these errors as exceptions and handle them using the techniques you saw in a previous lesson. This way, you can also deal with unexpected exceptions."
    },
    {
      "metadata": {},
      "cell_type": "markdown",
      "source": "---\n<font size=\"6\" color=\"#00A0B2\"  face=\"verdana\"> <B>Examples</B></font>\n\nIn these examples we use exception handling to make sure that a file exists and that it is a file."
    },
    {
      "metadata": {
        "trusted": true
      },
      "cell_type": "code",
      "source": "import os.path\n\nfile_path = \"parent_dir/fictitious_file.txt\"\n\n# Remove a file\n\ntry:\n    os.remove(file_path)\nexcept FileNotFoundError as exception_object:\n    print(\"Cannot find file: \", exception_object)\nexcept PermissionError as exception_object:\n    print(\"Cannot delete a directory: \", exception_object)\nexcept Exception as exception_object:\n    print(\"Unexpected exception: \", exception_object)",
      "execution_count": 36,
      "outputs": [
        {
          "output_type": "stream",
          "text": "Cannot find file:  [Errno 2] No such file or directory: 'parent_dir/fictitious_file.txt'\n",
          "name": "stdout"
        }
      ]
    },
    {
      "metadata": {
        "collapsed": true,
        "trusted": false
      },
      "cell_type": "code",
      "source": "import os.path\n\nfile_path = \"parent_dir\"\n\n# Remove a file\n\ntry:\n    os.remove(file_path)\nexcept FileNotFoundError as exception_object:\n    print(\"Cannot find file: \", exception_object)\nexcept PermissionError as exception_object:\n    print(\"Cannot delete a directory: \", exception_object)\nexcept Exception as exception_object:\n    print(\"Unexpected exception: \", exception_object)",
      "execution_count": null,
      "outputs": []
    },
    {
      "metadata": {},
      "cell_type": "markdown",
      "source": "---\n<font size=\"6\" color=\"#B24C00\"  face=\"verdana\"> <B>Task 3</B></font>\n\n## Handling File Exceptions\n"
    },
    {
      "metadata": {
        "trusted": true
      },
      "cell_type": "code",
      "source": "# [ ] Write a program to ask the user for a file number, \n# then delete the file if it exists or display an appropriate error message if it does not.\n# Use file exception handling instead of file existence tests.\n# Make sure to run the environment setup code before running your own program.\n\n# Test your program with the following:\n# Case 1: When the user inputs 84, the program should delete the file 84.txt\n# Case 2: When the user inputs 84 (again), the program should print a File Not Found error message\n# Case 3: When the user inputs 5, the program should delete the file 5.txt\n\nimport os\n\nif ('files_exercises' not in os.getcwd()):\n    print(\"STOP!!!! Run the environment setup code!\")\n    \nuin = input('please input a file number for the file to delete: ')\n\ntry:\n    os.remove(uin+'.txt')\n    print(uin+\".txt\"+\" is deleted!\")\nexcept FileNotFoundError as exception_object:\n    print(\"can't find the file: \", exception_object)\nexcept Exception as exception_object:\n    print(\"unexpected exception: \", exception_object)",
      "execution_count": 42,
      "outputs": [
        {
          "output_type": "stream",
          "name": "stdout",
          "text": "please input a file number for the file to delete: 25\n25.txt is deleted!\n"
        }
      ]
    },
    {
      "metadata": {},
      "cell_type": "markdown",
      "source": "---\n<font size=\"6\" color=\"#00A0B2\"  face=\"verdana\"> <B>Concepts</B></font>  \n\n\n## `with` Statements\n\n\n[![view video](https://iajupyterprodblobs.blob.core.windows.net/imagecontainer/common/play_video.png)](https://www.youtube.com/watch?v=r0Cw5dyrr_Y)\n\nAfter interacting with a file in Python, it is very important to close the file to ensure that all output is written properly and the resources are freed. Sometimes an exception is raised before reaching the `close()` statement, and the file is kept open. This issue can be resolved by placing the `close()` statement inside a `finally` clause. However, because the process of opening and closing a file is very common, Python provides a succinct `with` statement that performs the same task. The syntax of the `with` statement is:\n\n```python\nwith open(FILE_NAME, MODE) as VARIABLE:\n    code block\n```\n"
    },
    {
      "metadata": {},
      "cell_type": "markdown",
      "source": "---\n<font size=\"6\" color=\"#00A0B2\"  face=\"verdana\"> <B>Examples</B></font>\n\n### Without a `with` statement\nIn this example, you see that the file is still open after the `except` statement because `file.close()` is never reached."
    },
    {
      "metadata": {
        "trusted": true
      },
      "cell_type": "code",
      "source": "file_path = \"parent_dir/text_file.txt\"\n\ntry:\n    file = open(file_path, 'r')\n    x = int(file.readline()) # Raise an exception if lines are not numeric\n    file.close() # Might never be reached if file.write raised an error\nexcept Exception as exception_object:\n    print(\"Unexpected exception:\", exception_object)\n\nprint(\"File is closed?\", file.closed)",
      "execution_count": 45,
      "outputs": [
        {
          "output_type": "stream",
          "text": "Unexpected exception: [Errno 2] No such file or directory: 'parent_dir/text_file.txt'\n",
          "name": "stdout"
        },
        {
          "output_type": "error",
          "ename": "AttributeError",
          "evalue": "'str' object has no attribute 'closed'",
          "traceback": [
            "\u001b[0;31m---------------------------------------------------------------------------\u001b[0m",
            "\u001b[0;31mAttributeError\u001b[0m                            Traceback (most recent call last)",
            "\u001b[0;32m<ipython-input-45-3eee5bda0cda>\u001b[0m in \u001b[0;36m<module>\u001b[0;34m()\u001b[0m\n\u001b[1;32m      8\u001b[0m     \u001b[0mprint\u001b[0m\u001b[0;34m(\u001b[0m\u001b[0;34m\"Unexpected exception:\"\u001b[0m\u001b[0;34m,\u001b[0m \u001b[0mexception_object\u001b[0m\u001b[0;34m)\u001b[0m\u001b[0;34m\u001b[0m\u001b[0m\n\u001b[1;32m      9\u001b[0m \u001b[0;34m\u001b[0m\u001b[0m\n\u001b[0;32m---> 10\u001b[0;31m \u001b[0mprint\u001b[0m\u001b[0;34m(\u001b[0m\u001b[0;34m\"File is closed?\"\u001b[0m\u001b[0;34m,\u001b[0m \u001b[0mfile\u001b[0m\u001b[0;34m.\u001b[0m\u001b[0mclosed\u001b[0m\u001b[0;34m)\u001b[0m\u001b[0;34m\u001b[0m\u001b[0m\n\u001b[0m",
            "\u001b[0;31mAttributeError\u001b[0m: 'str' object has no attribute 'closed'"
          ]
        }
      ]
    },
    {
      "metadata": {},
      "cell_type": "markdown",
      "source": "### Using a `finally` statement\nThe `finally` clause will close the file whether an exception was raised or not."
    },
    {
      "metadata": {
        "trusted": true
      },
      "cell_type": "code",
      "source": "file_path = \"parent_dir/text_file.txt\"\n\ntry:\n    file = open(file_path, 'r')\n    x = int(file.readline()) #raise an exception if lines are not numeric\nexcept Exception as exception_object:\n    print(\"Unexpected exception:\", exception_object)\nfinally:\n    file.close() # will be executed whether an exception was raised or not\n\nprint(\"File is closed?\", file.closed)",
      "execution_count": 44,
      "outputs": [
        {
          "output_type": "stream",
          "text": "Unexpected exception: [Errno 2] No such file or directory: 'parent_dir/text_file.txt'\n",
          "name": "stdout"
        },
        {
          "output_type": "error",
          "ename": "AttributeError",
          "evalue": "'str' object has no attribute 'close'",
          "traceback": [
            "\u001b[0;31m---------------------------------------------------------------------------\u001b[0m",
            "\u001b[0;31mAttributeError\u001b[0m                            Traceback (most recent call last)",
            "\u001b[0;32m<ipython-input-44-d8d269cc9805>\u001b[0m in \u001b[0;36m<module>\u001b[0;34m()\u001b[0m\n\u001b[1;32m      7\u001b[0m     \u001b[0mprint\u001b[0m\u001b[0;34m(\u001b[0m\u001b[0;34m\"Unexpected exception:\"\u001b[0m\u001b[0;34m,\u001b[0m \u001b[0mexception_object\u001b[0m\u001b[0;34m)\u001b[0m\u001b[0;34m\u001b[0m\u001b[0m\n\u001b[1;32m      8\u001b[0m \u001b[0;32mfinally\u001b[0m\u001b[0;34m:\u001b[0m\u001b[0;34m\u001b[0m\u001b[0m\n\u001b[0;32m----> 9\u001b[0;31m     \u001b[0mfile\u001b[0m\u001b[0;34m.\u001b[0m\u001b[0mclose\u001b[0m\u001b[0;34m(\u001b[0m\u001b[0;34m)\u001b[0m \u001b[0;31m# will be executed whether an exception was raised or not\u001b[0m\u001b[0;34m\u001b[0m\u001b[0m\n\u001b[0m\u001b[1;32m     10\u001b[0m \u001b[0;34m\u001b[0m\u001b[0m\n\u001b[1;32m     11\u001b[0m \u001b[0mprint\u001b[0m\u001b[0;34m(\u001b[0m\u001b[0;34m\"File is closed?\"\u001b[0m\u001b[0;34m,\u001b[0m \u001b[0mfile\u001b[0m\u001b[0;34m.\u001b[0m\u001b[0mclosed\u001b[0m\u001b[0;34m)\u001b[0m\u001b[0;34m\u001b[0m\u001b[0m\n",
            "\u001b[0;31mAttributeError\u001b[0m: 'str' object has no attribute 'close'"
          ]
        }
      ]
    },
    {
      "metadata": {},
      "cell_type": "markdown",
      "source": "### Using a `with` statement\nYou need not explicitly close the file; the `with` statement will do it for you."
    },
    {
      "metadata": {
        "trusted": true
      },
      "cell_type": "code",
      "source": "file_path = \"parent_dir/text_file.txt\"\n\ntry:\n    with open(file_path, 'r') as file:\n        x = int(file.readline()) #raise an exception if lines are not numeric\nexcept Exception as exception_object:\n    print(\"Unexpected exception\", exception_object)\n\nprint(\"File is closed?\", file.closed)",
      "execution_count": 46,
      "outputs": [
        {
          "output_type": "stream",
          "text": "Unexpected exception [Errno 2] No such file or directory: 'parent_dir/text_file.txt'\n",
          "name": "stdout"
        },
        {
          "output_type": "error",
          "ename": "AttributeError",
          "evalue": "'str' object has no attribute 'closed'",
          "traceback": [
            "\u001b[0;31m---------------------------------------------------------------------------\u001b[0m",
            "\u001b[0;31mAttributeError\u001b[0m                            Traceback (most recent call last)",
            "\u001b[0;32m<ipython-input-46-94c9f3d84f92>\u001b[0m in \u001b[0;36m<module>\u001b[0;34m()\u001b[0m\n\u001b[1;32m      7\u001b[0m     \u001b[0mprint\u001b[0m\u001b[0;34m(\u001b[0m\u001b[0;34m\"Unexpected exception\"\u001b[0m\u001b[0;34m,\u001b[0m \u001b[0mexception_object\u001b[0m\u001b[0;34m)\u001b[0m\u001b[0;34m\u001b[0m\u001b[0m\n\u001b[1;32m      8\u001b[0m \u001b[0;34m\u001b[0m\u001b[0m\n\u001b[0;32m----> 9\u001b[0;31m \u001b[0mprint\u001b[0m\u001b[0;34m(\u001b[0m\u001b[0;34m\"File is closed?\"\u001b[0m\u001b[0;34m,\u001b[0m \u001b[0mfile\u001b[0m\u001b[0;34m.\u001b[0m\u001b[0mclosed\u001b[0m\u001b[0;34m)\u001b[0m\u001b[0;34m\u001b[0m\u001b[0m\n\u001b[0m",
            "\u001b[0;31mAttributeError\u001b[0m: 'str' object has no attribute 'closed'"
          ]
        }
      ]
    },
    {
      "metadata": {},
      "cell_type": "markdown",
      "source": "---\n<font size=\"6\" color=\"#B24C00\"  face=\"verdana\"> <B>Task 4</B></font>\n\n## `with` Statements"
    },
    {
      "metadata": {
        "trusted": true
      },
      "cell_type": "code",
      "source": "# [ ] Write a program to print the first line of every file inside `files_exercises`\n# Use a `with` statement to open (and close) every file\n# Make sure the to run the environment setup code before running your own program.\n\n\nimport os\n\nif ('files_exercises' not in os.getcwd()):\n    print(\"STOP!!!! Run the environment setup code!\")\n\nfor file in os.listdir():\n    if \".\" in file:\n        file_path = os.path.abspath(file)\n        with open(file_path, 'r') as r_file:\n            print(\"first line of the file {} is {}\".format(file, r_file.readline()))\n\n",
      "execution_count": 52,
      "outputs": [
        {
          "output_type": "stream",
          "text": "first line of the file 39.txt is 8295\nfirst line of the file 53.txt is 9449\nfirst line of the file 63.txt is 3944\nfirst line of the file 43.txt is 1163\nfirst line of the file 11.txt is 9749\nfirst line of the file 57.txt is 9496\nfirst line of the file 49.txt is 4626\nfirst line of the file 69.txt is 5154\nfirst line of the file 89.txt is 5657\nfirst line of the file 81.txt is 2913\nfirst line of the file 61.txt is 4112\nfirst line of the file 87.txt is 9846\nfirst line of the file 19.txt is 5229\nfirst line of the file 97.txt is 7586\nfirst line of the file 45.txt is 1358\nfirst line of the file 27.txt is 2177\nfirst line of the file 17.txt is 4499\nfirst line of the file 67.txt is 9330\nfirst line of the file 47.txt is 5948\nfirst line of the file 33.txt is 1159\nfirst line of the file 93.txt is 4912\nfirst line of the file 95.txt is 8301\nfirst line of the file 51.txt is 5436\nfirst line of the file 77.txt is 2352\nfirst line of the file 73.txt is 6279\nfirst line of the file 65.txt is 1248\nfirst line of the file 91.txt is 8967\nfirst line of the file 79.txt is 7865\nfirst line of the file 99.txt is 5396\nfirst line of the file 41.txt is 4631\nfirst line of the file 83.txt is 2542\nfirst line of the file 29.txt is 9907\nfirst line of the file 75.txt is 1193\nfirst line of the file 55.txt is 2853\nfirst line of the file 71.txt is 6153\nfirst line of the file 35.txt is 9528\nfirst line of the file 31.txt is 2774\nfirst line of the file 85.txt is 3447\nfirst line of the file 37.txt is 4769\nfirst line of the file 21.txt is 9287\nfirst line of the file 59.txt is 3678\n",
          "name": "stdout"
        }
      ]
    }
  ],
  "metadata": {
    "kernelspec": {
      "name": "python3",
      "display_name": "Python 3",
      "language": "python"
    },
    "language_info": {
      "mimetype": "text/x-python",
      "nbconvert_exporter": "python",
      "name": "python",
      "file_extension": ".py",
      "version": "3.5.4",
      "pygments_lexer": "ipython3",
      "codemirror_mode": {
        "version": 3,
        "name": "ipython"
      }
    }
  },
  "nbformat": 4,
  "nbformat_minor": 2
}