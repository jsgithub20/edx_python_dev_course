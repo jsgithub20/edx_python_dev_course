{
  "cells": [
    {
      "metadata": {
        "trusted": true
      },
      "cell_type": "code",
      "source": "def gen_stairs(steps, base_shape):\n    for row in range(steps):\n        for col in range(steps):\n            if(col <= row):\n                print(base_shape, end = \"\")\n        print()\ngen_stairs(6, '~')",
      "execution_count": 3,
      "outputs": [
        {
          "output_type": "stream",
          "text": "~\n~~\n~~~\n~~~~\n~~~~~\n~~~~~~\n",
          "name": "stdout"
        }
      ]
    }
  ],
  "metadata": {
    "kernelspec": {
      "name": "python3",
      "display_name": "Python 3",
      "language": "python"
    },
    "language_info": {
      "mimetype": "text/x-python",
      "nbconvert_exporter": "python",
      "name": "python",
      "file_extension": ".py",
      "version": "3.5.4",
      "pygments_lexer": "ipython3",
      "codemirror_mode": {
        "version": 3,
        "name": "ipython"
      }
    }
  },
  "nbformat": 4,
  "nbformat_minor": 1
}