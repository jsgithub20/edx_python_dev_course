{
  "cells": [
    {
      "metadata": {
        "trusted": true
      },
      "cell_type": "code",
      "source": "from datetime import date, datetime\n\nweather = {1: [49, 34, 0.0],\n     2: [49, 29, 0.0],\n     3: [46, 32, 0.0]}\n\nfor value in weather.values():\n    if value[0] != 0:\n        value.append(True)\n    else:\n        value.append(False)\n\nprint(weather)\n\nd = date(2017, 12, 21)\n\nprint(type(date(2017, 12, 24)))",
      "execution_count": 18,
      "outputs": [
        {
          "output_type": "stream",
          "text": "{1: [49, 34, 0.0, True], 2: [49, 29, 0.0, True], 3: [46, 32, 0.0, True]}\n<class 'datetime.date'>\n",
          "name": "stdout"
        }
      ]
    }
  ],
  "metadata": {
    "kernelspec": {
      "name": "python3",
      "display_name": "Python 3",
      "language": "python"
    },
    "language_info": {
      "mimetype": "text/x-python",
      "nbconvert_exporter": "python",
      "name": "python",
      "pygments_lexer": "ipython3",
      "version": "3.5.4",
      "file_extension": ".py",
      "codemirror_mode": {
        "version": 3,
        "name": "ipython"
      }
    }
  },
  "nbformat": 4,
  "nbformat_minor": 1
}