{
  "cells": [
    {
      "metadata": {
        "trusted": true
      },
      "cell_type": "code",
      "source": "board = [['7', '8', 'X'], ['O', 'O', '6'], ['1', 'X', '3']]\n\ndef draw_board(board):\n    for item in board:\n        print(' {} | {} | {} '.format(item[0], item[1], item[2]))\n        if item != board[2]:\n            print('_' * 11)\n        else:\n            pass\n\ndraw_board(board)\n        \ni = 8\nmapping = ['0', '0', '0', '0', '0', '0', '0', '0', '0']\n\nfor item_b in board:\n        mapping[i] = item_b[2]; mapping[i-1] = item_b[1]; mapping[i-2] = item_b[0]\n        i -= 3\n\nprint(mapping)",
      "execution_count": 4,
      "outputs": [
        {
          "output_type": "stream",
          "text": " 7 | 8 | X \n___________\n O | O | 6 \n___________\n 1 | X | 3 \n['1', 'X', '3', 'O', 'O', '6', '7', '8', 'X']\n",
          "name": "stdout"
        }
      ]
    }
  ],
  "metadata": {
    "kernelspec": {
      "name": "python36",
      "display_name": "Python 3.6",
      "language": "python"
    },
    "language_info": {
      "mimetype": "text/x-python",
      "nbconvert_exporter": "python",
      "name": "python",
      "pygments_lexer": "ipython3",
      "version": "3.6.6",
      "file_extension": ".py",
      "codemirror_mode": {
        "version": 3,
        "name": "ipython"
      }
    }
  },
  "nbformat": 4,
  "nbformat_minor": 1
}